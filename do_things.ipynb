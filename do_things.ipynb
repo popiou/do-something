{
 "cells": [
  {
   "cell_type": "code",
   "execution_count": null,
   "metadata": {},
   "outputs": [],
   "source": [
    "in1 = input(\"What is your name?\")\n",
    "in2 = input(\"What is you favorite number?\")\n",
    "\n",
    "in2num = int(in2)\n",
    "x = 0\n",
    "print(\"hi, \"+in1+\", i can give you \"+in2+\" reasons why you should join my group\")\n",
    "\n",
    "while x <= in2num:\n",
    "    print(\"Reason \"+str(x)+\": i am lonely\")\n",
    "    x = x+1"
   ]
  }
 ],
 "metadata": {
  "kernelspec": {
   "display_name": "Python 3",
   "language": "python",
   "name": "python3"
  },
  "language_info": {
   "codemirror_mode": {
    "name": "ipython",
    "version": 3
   },
   "file_extension": ".py",
   "mimetype": "text/x-python",
   "name": "python",
   "nbconvert_exporter": "python",
   "pygments_lexer": "ipython3",
   "version": "3.6.7"
  }
 },
 "nbformat": 4,
 "nbformat_minor": 4
}
